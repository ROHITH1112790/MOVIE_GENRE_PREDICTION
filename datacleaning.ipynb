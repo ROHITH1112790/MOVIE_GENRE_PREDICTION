{
 "cells": [
  {
   "cell_type": "code",
   "execution_count": 19,
   "id": "e57b2080",
   "metadata": {
    "scrolled": true
   },
   "outputs": [
    {
     "name": "stderr",
     "output_type": "stream",
     "text": [
      "C:\\Users\\Rohith Raj\\AppData\\Local\\Temp\\ipykernel_15964\\3825916775.py:11: SettingWithCopyWarning: \n",
      "A value is trying to be set on a copy of a slice from a DataFrame\n",
      "\n",
      "See the caveats in the documentation: https://pandas.pydata.org/pandas-docs/stable/user_guide/indexing.html#returning-a-view-versus-a-copy\n",
      "  df_cleaned.drop(columns=['Wiki Page'], inplace=True)\n"
     ]
    },
    {
     "name": "stdout",
     "output_type": "stream",
     "text": [
      "Cleaning complete. Cleaned data saved to cleaned_dataset.csv\n"
     ]
    }
   ],
   "source": [
    "import pandas as pd\n",
    "\n",
    "def clean_dataset(input_file, output_file):\n",
    "    # Read dataset from CSV file\n",
    "    df = pd.read_csv(\"dataset.csv\")\n",
    "\n",
    "    # Remove rows with unknown genre and director\n",
    "    df_cleaned = df[(df['Director'] != 'Unknown') & (df['Genre'] != 'unknown')]\n",
    "\n",
    "    # Drop the \"Wiki Page\" column\n",
    "    df_cleaned.drop(columns=['Wiki Page'], inplace=True)\n",
    "\n",
    "    # Write cleaned data to a new CSV file\n",
    "    df_cleaned.to_csv(output_file, index=False)\n",
    "\n",
    "    print(\"Cleaning complete. Cleaned data saved to\", output_file)\n",
    "\n",
    "# Example usage:\n",
    "input_file = r\"C:\\Users\\Admin\\Music\\Desktop\\Dataset.csv\"\n",
    "output_file = \"cleaned_dataset.csv\"\n",
    "clean_dataset(input_file, output_file)"
   ]
  },
  {
   "cell_type": "code",
   "execution_count": null,
   "id": "c197cd6e",
   "metadata": {},
   "outputs": [],
   "source": []
  }
 ],
 "metadata": {
  "kernelspec": {
   "display_name": "Python 3 (ipykernel)",
   "language": "python",
   "name": "python3"
  },
  "language_info": {
   "codemirror_mode": {
    "name": "ipython",
    "version": 3
   },
   "file_extension": ".py",
   "mimetype": "text/x-python",
   "name": "python",
   "nbconvert_exporter": "python",
   "pygments_lexer": "ipython3",
   "version": "3.11.3"
  }
 },
 "nbformat": 4,
 "nbformat_minor": 5
}
